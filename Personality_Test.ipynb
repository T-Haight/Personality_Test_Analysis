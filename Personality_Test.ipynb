{
 "cells": [
  {
   "cell_type": "code",
   "execution_count": 77,
   "metadata": {},
   "outputs": [],
   "source": [
    "# Import required libraries\n",
    "import os\n",
    "os.environ[\"OMP_NUM_THREADS\"] = '1'\n",
    "import numpy as np\n",
    "import pandas as pd\n",
    "from sklearn.cluster import KMeans, AgglomerativeClustering, Birch\n",
    "from sklearn.decomposition import PCA\n",
    "from sklearn.linear_model import LinearRegression\n",
    "from sklearn.preprocessing import StandardScaler\n",
    "from sklearn.model_selection import train_test_split\n",
    "from sklearn.metrics import root_mean_squared_error, r2_score"
   ]
  },
  {
   "cell_type": "code",
   "execution_count": 78,
   "metadata": {},
   "outputs": [],
   "source": [
    "personality_test_df = pd.read_csv('../Downloads/Big_Five_Personality_Test/data-final.csv', sep='\\t')"
   ]
  },
  {
   "cell_type": "code",
   "execution_count": 79,
   "metadata": {},
   "outputs": [
    {
     "data": {
      "text/html": [
       "<div>\n",
       "<style scoped>\n",
       "    .dataframe tbody tr th:only-of-type {\n",
       "        vertical-align: middle;\n",
       "    }\n",
       "\n",
       "    .dataframe tbody tr th {\n",
       "        vertical-align: top;\n",
       "    }\n",
       "\n",
       "    .dataframe thead th {\n",
       "        text-align: right;\n",
       "    }\n",
       "</style>\n",
       "<table border=\"1\" class=\"dataframe\">\n",
       "  <thead>\n",
       "    <tr style=\"text-align: right;\">\n",
       "      <th></th>\n",
       "      <th>EXT1</th>\n",
       "      <th>EXT2</th>\n",
       "      <th>EXT3</th>\n",
       "      <th>EXT4</th>\n",
       "      <th>EXT5</th>\n",
       "      <th>EXT6</th>\n",
       "      <th>EXT7</th>\n",
       "      <th>EXT8</th>\n",
       "      <th>EXT9</th>\n",
       "      <th>EXT10</th>\n",
       "      <th>...</th>\n",
       "      <th>dateload</th>\n",
       "      <th>screenw</th>\n",
       "      <th>screenh</th>\n",
       "      <th>introelapse</th>\n",
       "      <th>testelapse</th>\n",
       "      <th>endelapse</th>\n",
       "      <th>IPC</th>\n",
       "      <th>country</th>\n",
       "      <th>lat_appx_lots_of_err</th>\n",
       "      <th>long_appx_lots_of_err</th>\n",
       "    </tr>\n",
       "  </thead>\n",
       "  <tbody>\n",
       "    <tr>\n",
       "      <th>0</th>\n",
       "      <td>4.0</td>\n",
       "      <td>1.0</td>\n",
       "      <td>5.0</td>\n",
       "      <td>2.0</td>\n",
       "      <td>5.0</td>\n",
       "      <td>1.0</td>\n",
       "      <td>5.0</td>\n",
       "      <td>2.0</td>\n",
       "      <td>4.0</td>\n",
       "      <td>1.0</td>\n",
       "      <td>...</td>\n",
       "      <td>2016-03-03 02:01:01</td>\n",
       "      <td>768.0</td>\n",
       "      <td>1024.0</td>\n",
       "      <td>9.0</td>\n",
       "      <td>234.0</td>\n",
       "      <td>6</td>\n",
       "      <td>1</td>\n",
       "      <td>GB</td>\n",
       "      <td>51.5448</td>\n",
       "      <td>0.1991</td>\n",
       "    </tr>\n",
       "    <tr>\n",
       "      <th>1</th>\n",
       "      <td>3.0</td>\n",
       "      <td>5.0</td>\n",
       "      <td>3.0</td>\n",
       "      <td>4.0</td>\n",
       "      <td>3.0</td>\n",
       "      <td>3.0</td>\n",
       "      <td>2.0</td>\n",
       "      <td>5.0</td>\n",
       "      <td>1.0</td>\n",
       "      <td>5.0</td>\n",
       "      <td>...</td>\n",
       "      <td>2016-03-03 02:01:20</td>\n",
       "      <td>1360.0</td>\n",
       "      <td>768.0</td>\n",
       "      <td>12.0</td>\n",
       "      <td>179.0</td>\n",
       "      <td>11</td>\n",
       "      <td>1</td>\n",
       "      <td>MY</td>\n",
       "      <td>3.1698</td>\n",
       "      <td>101.706</td>\n",
       "    </tr>\n",
       "    <tr>\n",
       "      <th>2</th>\n",
       "      <td>2.0</td>\n",
       "      <td>3.0</td>\n",
       "      <td>4.0</td>\n",
       "      <td>4.0</td>\n",
       "      <td>3.0</td>\n",
       "      <td>2.0</td>\n",
       "      <td>1.0</td>\n",
       "      <td>3.0</td>\n",
       "      <td>2.0</td>\n",
       "      <td>5.0</td>\n",
       "      <td>...</td>\n",
       "      <td>2016-03-03 02:01:56</td>\n",
       "      <td>1366.0</td>\n",
       "      <td>768.0</td>\n",
       "      <td>3.0</td>\n",
       "      <td>186.0</td>\n",
       "      <td>7</td>\n",
       "      <td>1</td>\n",
       "      <td>GB</td>\n",
       "      <td>54.9119</td>\n",
       "      <td>-1.3833</td>\n",
       "    </tr>\n",
       "    <tr>\n",
       "      <th>3</th>\n",
       "      <td>2.0</td>\n",
       "      <td>2.0</td>\n",
       "      <td>2.0</td>\n",
       "      <td>3.0</td>\n",
       "      <td>4.0</td>\n",
       "      <td>2.0</td>\n",
       "      <td>2.0</td>\n",
       "      <td>4.0</td>\n",
       "      <td>1.0</td>\n",
       "      <td>4.0</td>\n",
       "      <td>...</td>\n",
       "      <td>2016-03-03 02:02:02</td>\n",
       "      <td>1920.0</td>\n",
       "      <td>1200.0</td>\n",
       "      <td>186.0</td>\n",
       "      <td>219.0</td>\n",
       "      <td>7</td>\n",
       "      <td>1</td>\n",
       "      <td>GB</td>\n",
       "      <td>51.75</td>\n",
       "      <td>-1.25</td>\n",
       "    </tr>\n",
       "    <tr>\n",
       "      <th>4</th>\n",
       "      <td>3.0</td>\n",
       "      <td>3.0</td>\n",
       "      <td>3.0</td>\n",
       "      <td>3.0</td>\n",
       "      <td>5.0</td>\n",
       "      <td>3.0</td>\n",
       "      <td>3.0</td>\n",
       "      <td>5.0</td>\n",
       "      <td>3.0</td>\n",
       "      <td>4.0</td>\n",
       "      <td>...</td>\n",
       "      <td>2016-03-03 02:02:57</td>\n",
       "      <td>1366.0</td>\n",
       "      <td>768.0</td>\n",
       "      <td>8.0</td>\n",
       "      <td>315.0</td>\n",
       "      <td>17</td>\n",
       "      <td>2</td>\n",
       "      <td>KE</td>\n",
       "      <td>1.0</td>\n",
       "      <td>38.0</td>\n",
       "    </tr>\n",
       "  </tbody>\n",
       "</table>\n",
       "<p>5 rows × 110 columns</p>\n",
       "</div>"
      ],
      "text/plain": [
       "   EXT1  EXT2  EXT3  EXT4  EXT5  EXT6  EXT7  EXT8  EXT9  EXT10  ...  \\\n",
       "0   4.0   1.0   5.0   2.0   5.0   1.0   5.0   2.0   4.0    1.0  ...   \n",
       "1   3.0   5.0   3.0   4.0   3.0   3.0   2.0   5.0   1.0    5.0  ...   \n",
       "2   2.0   3.0   4.0   4.0   3.0   2.0   1.0   3.0   2.0    5.0  ...   \n",
       "3   2.0   2.0   2.0   3.0   4.0   2.0   2.0   4.0   1.0    4.0  ...   \n",
       "4   3.0   3.0   3.0   3.0   5.0   3.0   3.0   5.0   3.0    4.0  ...   \n",
       "\n",
       "              dateload  screenw  screenh  introelapse  testelapse  endelapse  \\\n",
       "0  2016-03-03 02:01:01    768.0   1024.0          9.0       234.0          6   \n",
       "1  2016-03-03 02:01:20   1360.0    768.0         12.0       179.0         11   \n",
       "2  2016-03-03 02:01:56   1366.0    768.0          3.0       186.0          7   \n",
       "3  2016-03-03 02:02:02   1920.0   1200.0        186.0       219.0          7   \n",
       "4  2016-03-03 02:02:57   1366.0    768.0          8.0       315.0         17   \n",
       "\n",
       "   IPC  country  lat_appx_lots_of_err  long_appx_lots_of_err  \n",
       "0    1       GB               51.5448                 0.1991  \n",
       "1    1       MY                3.1698                101.706  \n",
       "2    1       GB               54.9119                -1.3833  \n",
       "3    1       GB                 51.75                  -1.25  \n",
       "4    2       KE                   1.0                   38.0  \n",
       "\n",
       "[5 rows x 110 columns]"
      ]
     },
     "execution_count": 79,
     "metadata": {},
     "output_type": "execute_result"
    }
   ],
   "source": [
    "personality_test_df.head()"
   ]
  },
  {
   "cell_type": "code",
   "execution_count": 80,
   "metadata": {},
   "outputs": [
    {
     "data": {
      "text/plain": [
       "Index(['EXT1', 'EXT2', 'EXT3', 'EXT4', 'EXT5', 'EXT6', 'EXT7', 'EXT8', 'EXT9',\n",
       "       'EXT10',\n",
       "       ...\n",
       "       'dateload', 'screenw', 'screenh', 'introelapse', 'testelapse',\n",
       "       'endelapse', 'IPC', 'country', 'lat_appx_lots_of_err',\n",
       "       'long_appx_lots_of_err'],\n",
       "      dtype='object', length=110)"
      ]
     },
     "execution_count": 80,
     "metadata": {},
     "output_type": "execute_result"
    }
   ],
   "source": [
    "personality_test_df.columns"
   ]
  },
  {
   "cell_type": "code",
   "execution_count": 81,
   "metadata": {},
   "outputs": [
    {
     "name": "stdout",
     "output_type": "stream",
     "text": [
      "<class 'pandas.core.frame.DataFrame'>\n",
      "RangeIndex: 1015341 entries, 0 to 1015340\n",
      "Columns: 110 entries, EXT1 to long_appx_lots_of_err\n",
      "dtypes: float64(104), int64(2), object(4)\n",
      "memory usage: 852.1+ MB\n"
     ]
    }
   ],
   "source": [
    "personality_test_df.info()"
   ]
  },
  {
   "cell_type": "code",
   "execution_count": 82,
   "metadata": {},
   "outputs": [
    {
     "data": {
      "text/plain": [
       "EXT1                     1783\n",
       "EXT2                     1783\n",
       "EXT3                     1783\n",
       "EXT4                     1783\n",
       "EXT5                     1783\n",
       "                         ... \n",
       "endelapse                   0\n",
       "IPC                         0\n",
       "country                    77\n",
       "lat_appx_lots_of_err        0\n",
       "long_appx_lots_of_err       0\n",
       "Length: 110, dtype: int64"
      ]
     },
     "execution_count": 82,
     "metadata": {},
     "output_type": "execute_result"
    }
   ],
   "source": [
    "personality_test_df.isnull().sum()"
   ]
  },
  {
   "cell_type": "code",
   "execution_count": 83,
   "metadata": {},
   "outputs": [
    {
     "data": {
      "text/plain": [
       "0"
      ]
     },
     "execution_count": 83,
     "metadata": {},
     "output_type": "execute_result"
    }
   ],
   "source": [
    "# Drop rows with missing values\n",
    "personality_test_df = personality_test_df.dropna()\n",
    "personality_test_df.isnull().sum().sum()"
   ]
  },
  {
   "cell_type": "code",
   "execution_count": 84,
   "metadata": {},
   "outputs": [
    {
     "name": "stdout",
     "output_type": "stream",
     "text": [
      "<class 'pandas.core.frame.DataFrame'>\n",
      "Index: 1012050 entries, 0 to 1015340\n",
      "Columns: 110 entries, EXT1 to long_appx_lots_of_err\n",
      "dtypes: float64(104), int64(2), object(4)\n",
      "memory usage: 857.1+ MB\n"
     ]
    }
   ],
   "source": [
    "# Display number of entries and dtypes\n",
    "personality_test_df.info()"
   ]
  },
  {
   "cell_type": "code",
   "execution_count": 85,
   "metadata": {},
   "outputs": [
    {
     "data": {
      "text/plain": [
       "Index(['dateload', 'country', 'lat_appx_lots_of_err', 'long_appx_lots_of_err'], dtype='object')"
      ]
     },
     "execution_count": 85,
     "metadata": {},
     "output_type": "execute_result"
    }
   ],
   "source": [
    "# display the columns with object data type\n",
    "personality_test_df.select_dtypes(include=['object']).columns"
   ]
  },
  {
   "cell_type": "code",
   "execution_count": 86,
   "metadata": {},
   "outputs": [
    {
     "data": {
      "text/html": [
       "<div>\n",
       "<style scoped>\n",
       "    .dataframe tbody tr th:only-of-type {\n",
       "        vertical-align: middle;\n",
       "    }\n",
       "\n",
       "    .dataframe tbody tr th {\n",
       "        vertical-align: top;\n",
       "    }\n",
       "\n",
       "    .dataframe thead th {\n",
       "        text-align: right;\n",
       "    }\n",
       "</style>\n",
       "<table border=\"1\" class=\"dataframe\">\n",
       "  <thead>\n",
       "    <tr style=\"text-align: right;\">\n",
       "      <th></th>\n",
       "      <th>dateload</th>\n",
       "      <th>country</th>\n",
       "      <th>lat_appx_lots_of_err</th>\n",
       "      <th>long_appx_lots_of_err</th>\n",
       "    </tr>\n",
       "  </thead>\n",
       "  <tbody>\n",
       "    <tr>\n",
       "      <th>0</th>\n",
       "      <td>2016-03-03 02:01:01</td>\n",
       "      <td>GB</td>\n",
       "      <td>51.5448</td>\n",
       "      <td>0.1991</td>\n",
       "    </tr>\n",
       "    <tr>\n",
       "      <th>1</th>\n",
       "      <td>2016-03-03 02:01:20</td>\n",
       "      <td>MY</td>\n",
       "      <td>3.1698</td>\n",
       "      <td>101.706</td>\n",
       "    </tr>\n",
       "    <tr>\n",
       "      <th>2</th>\n",
       "      <td>2016-03-03 02:01:56</td>\n",
       "      <td>GB</td>\n",
       "      <td>54.9119</td>\n",
       "      <td>-1.3833</td>\n",
       "    </tr>\n",
       "    <tr>\n",
       "      <th>3</th>\n",
       "      <td>2016-03-03 02:02:02</td>\n",
       "      <td>GB</td>\n",
       "      <td>51.75</td>\n",
       "      <td>-1.25</td>\n",
       "    </tr>\n",
       "    <tr>\n",
       "      <th>4</th>\n",
       "      <td>2016-03-03 02:02:57</td>\n",
       "      <td>KE</td>\n",
       "      <td>1.0</td>\n",
       "      <td>38.0</td>\n",
       "    </tr>\n",
       "    <tr>\n",
       "      <th>...</th>\n",
       "      <td>...</td>\n",
       "      <td>...</td>\n",
       "      <td>...</td>\n",
       "      <td>...</td>\n",
       "    </tr>\n",
       "    <tr>\n",
       "      <th>1015336</th>\n",
       "      <td>2018-11-08 12:04:58</td>\n",
       "      <td>US</td>\n",
       "      <td>39.9883</td>\n",
       "      <td>-75.2208</td>\n",
       "    </tr>\n",
       "    <tr>\n",
       "      <th>1015337</th>\n",
       "      <td>2018-11-08 12:07:18</td>\n",
       "      <td>US</td>\n",
       "      <td>38.0</td>\n",
       "      <td>-97.0</td>\n",
       "    </tr>\n",
       "    <tr>\n",
       "      <th>1015338</th>\n",
       "      <td>2018-11-08 12:07:49</td>\n",
       "      <td>US</td>\n",
       "      <td>36.1473</td>\n",
       "      <td>-86.777</td>\n",
       "    </tr>\n",
       "    <tr>\n",
       "      <th>1015339</th>\n",
       "      <td>2018-11-08 12:08:34</td>\n",
       "      <td>US</td>\n",
       "      <td>34.1067</td>\n",
       "      <td>-117.8067</td>\n",
       "    </tr>\n",
       "    <tr>\n",
       "      <th>1015340</th>\n",
       "      <td>2018-11-08 12:08:45</td>\n",
       "      <td>US</td>\n",
       "      <td>38.0</td>\n",
       "      <td>-97.0</td>\n",
       "    </tr>\n",
       "  </tbody>\n",
       "</table>\n",
       "<p>1012050 rows × 4 columns</p>\n",
       "</div>"
      ],
      "text/plain": [
       "                    dateload country lat_appx_lots_of_err  \\\n",
       "0        2016-03-03 02:01:01      GB              51.5448   \n",
       "1        2016-03-03 02:01:20      MY               3.1698   \n",
       "2        2016-03-03 02:01:56      GB              54.9119   \n",
       "3        2016-03-03 02:02:02      GB                51.75   \n",
       "4        2016-03-03 02:02:57      KE                  1.0   \n",
       "...                      ...     ...                  ...   \n",
       "1015336  2018-11-08 12:04:58      US              39.9883   \n",
       "1015337  2018-11-08 12:07:18      US                 38.0   \n",
       "1015338  2018-11-08 12:07:49      US              36.1473   \n",
       "1015339  2018-11-08 12:08:34      US              34.1067   \n",
       "1015340  2018-11-08 12:08:45      US                 38.0   \n",
       "\n",
       "        long_appx_lots_of_err  \n",
       "0                      0.1991  \n",
       "1                     101.706  \n",
       "2                     -1.3833  \n",
       "3                       -1.25  \n",
       "4                        38.0  \n",
       "...                       ...  \n",
       "1015336              -75.2208  \n",
       "1015337                 -97.0  \n",
       "1015338               -86.777  \n",
       "1015339             -117.8067  \n",
       "1015340                 -97.0  \n",
       "\n",
       "[1012050 rows x 4 columns]"
      ]
     },
     "execution_count": 86,
     "metadata": {},
     "output_type": "execute_result"
    }
   ],
   "source": [
    "# View the 'object' columns\n",
    "personality_test_df[['dateload', 'country', 'lat_appx_lots_of_err', 'long_appx_lots_of_err']]"
   ]
  },
  {
   "cell_type": "code",
   "execution_count": 87,
   "metadata": {},
   "outputs": [],
   "source": [
    "# Drop the dateload, lat_appx_lots_of_err, and long_appx_lots_of_err columns\n",
    "personality_test_df = personality_test_df.drop(['dateload','lat_appx_lots_of_err', 'long_appx_lots_of_err'], axis=1)"
   ]
  },
  {
   "cell_type": "code",
   "execution_count": 88,
   "metadata": {},
   "outputs": [
    {
     "name": "stdout",
     "output_type": "stream",
     "text": [
      "float64    104\n",
      "int64        2\n",
      "int16        1\n",
      "Name: count, dtype: int64\n"
     ]
    },
    {
     "data": {
      "text/plain": [
       "0"
      ]
     },
     "execution_count": 88,
     "metadata": {},
     "output_type": "execute_result"
    }
   ],
   "source": [
    "# Convert the country column values to category codes\n",
    "personality_test_df['country'] = personality_test_df['country'].astype('category').cat.codes\n",
    "\n",
    "# Check dtypes and null values\n",
    "print(personality_test_df.dtypes.value_counts())\n",
    "personality_test_df.isnull().sum().sum()"
   ]
  },
  {
   "cell_type": "code",
   "execution_count": 89,
   "metadata": {},
   "outputs": [
    {
     "data": {
      "text/plain": [
       "array([[ 1.06930354, -1.33932583,  1.40879181, ..., -0.00181757,\n",
       "        -0.2368805 , -1.17103981],\n",
       "       [ 0.27846179,  1.68186475, -0.23718738, ..., -0.00181421,\n",
       "        -0.2368805 , -0.12456867],\n",
       "       [-0.51237997,  0.17126946,  0.58580222, ..., -0.0018169 ,\n",
       "        -0.2368805 , -1.17103981],\n",
       "       ...,\n",
       "       [ 1.06930354, -0.58402818,  0.58580222, ..., -0.00181354,\n",
       "        -0.11124691,  0.76842005],\n",
       "       [-0.51237997,  0.9265671 , -0.23718738, ..., -0.00181623,\n",
       "        -0.2368805 ,  0.76842005],\n",
       "       [ 1.06930354, -0.58402818,  0.58580222, ..., -0.00181555,\n",
       "        -0.2368805 ,  0.76842005]])"
      ]
     },
     "execution_count": 89,
     "metadata": {},
     "output_type": "execute_result"
    }
   ],
   "source": [
    "# Scale the data\n",
    "personality_scaled = StandardScaler().fit_transform(personality_test_df)\n",
    "personality_scaled"
   ]
  },
  {
   "cell_type": "code",
   "execution_count": 90,
   "metadata": {},
   "outputs": [
    {
     "data": {
      "text/html": [
       "<div>\n",
       "<style scoped>\n",
       "    .dataframe tbody tr th:only-of-type {\n",
       "        vertical-align: middle;\n",
       "    }\n",
       "\n",
       "    .dataframe tbody tr th {\n",
       "        vertical-align: top;\n",
       "    }\n",
       "\n",
       "    .dataframe thead th {\n",
       "        text-align: right;\n",
       "    }\n",
       "</style>\n",
       "<table border=\"1\" class=\"dataframe\">\n",
       "  <thead>\n",
       "    <tr style=\"text-align: right;\">\n",
       "      <th></th>\n",
       "      <th>EXT1</th>\n",
       "      <th>EXT2</th>\n",
       "      <th>EXT3</th>\n",
       "      <th>EXT4</th>\n",
       "      <th>EXT5</th>\n",
       "      <th>EXT6</th>\n",
       "      <th>EXT7</th>\n",
       "      <th>EXT8</th>\n",
       "      <th>EXT9</th>\n",
       "      <th>EXT10</th>\n",
       "      <th>...</th>\n",
       "      <th>OPN8_E</th>\n",
       "      <th>OPN9_E</th>\n",
       "      <th>OPN10_E</th>\n",
       "      <th>screenw</th>\n",
       "      <th>screenh</th>\n",
       "      <th>introelapse</th>\n",
       "      <th>testelapse</th>\n",
       "      <th>endelapse</th>\n",
       "      <th>IPC</th>\n",
       "      <th>country</th>\n",
       "    </tr>\n",
       "  </thead>\n",
       "  <tbody>\n",
       "    <tr>\n",
       "      <th>0</th>\n",
       "      <td>1.069304</td>\n",
       "      <td>-1.339326</td>\n",
       "      <td>1.408792</td>\n",
       "      <td>-0.921798</td>\n",
       "      <td>1.348737</td>\n",
       "      <td>-1.143013</td>\n",
       "      <td>1.591371</td>\n",
       "      <td>-1.112304</td>\n",
       "      <td>0.769836</td>\n",
       "      <td>-1.958685</td>\n",
       "      <td>...</td>\n",
       "      <td>-0.008775</td>\n",
       "      <td>-0.007733</td>\n",
       "      <td>-0.002231</td>\n",
       "      <td>-0.680887</td>\n",
       "      <td>1.097351</td>\n",
       "      <td>-0.018621</td>\n",
       "      <td>-0.021698</td>\n",
       "      <td>-0.001818</td>\n",
       "      <td>-0.236880</td>\n",
       "      <td>-1.171040</td>\n",
       "    </tr>\n",
       "    <tr>\n",
       "      <th>1</th>\n",
       "      <td>0.278462</td>\n",
       "      <td>1.681865</td>\n",
       "      <td>-0.237187</td>\n",
       "      <td>0.694401</td>\n",
       "      <td>-0.216655</td>\n",
       "      <td>0.488559</td>\n",
       "      <td>-0.550954</td>\n",
       "      <td>1.246273</td>\n",
       "      <td>-1.458903</td>\n",
       "      <td>1.105867</td>\n",
       "      <td>...</td>\n",
       "      <td>-0.007795</td>\n",
       "      <td>-0.007491</td>\n",
       "      <td>-0.005257</td>\n",
       "      <td>0.376066</td>\n",
       "      <td>-0.323065</td>\n",
       "      <td>-0.018562</td>\n",
       "      <td>-0.024424</td>\n",
       "      <td>-0.001814</td>\n",
       "      <td>-0.236880</td>\n",
       "      <td>-0.124569</td>\n",
       "    </tr>\n",
       "    <tr>\n",
       "      <th>2</th>\n",
       "      <td>-0.512380</td>\n",
       "      <td>0.171269</td>\n",
       "      <td>0.585802</td>\n",
       "      <td>0.694401</td>\n",
       "      <td>-0.216655</td>\n",
       "      <td>-0.327227</td>\n",
       "      <td>-1.265062</td>\n",
       "      <td>-0.326112</td>\n",
       "      <td>-0.715990</td>\n",
       "      <td>1.105867</td>\n",
       "      <td>...</td>\n",
       "      <td>0.003305</td>\n",
       "      <td>-0.011004</td>\n",
       "      <td>-0.006368</td>\n",
       "      <td>0.386778</td>\n",
       "      <td>-0.323065</td>\n",
       "      <td>-0.018738</td>\n",
       "      <td>-0.024077</td>\n",
       "      <td>-0.001817</td>\n",
       "      <td>-0.236880</td>\n",
       "      <td>-1.171040</td>\n",
       "    </tr>\n",
       "    <tr>\n",
       "      <th>3</th>\n",
       "      <td>-0.512380</td>\n",
       "      <td>-0.584028</td>\n",
       "      <td>-1.060177</td>\n",
       "      <td>-0.113698</td>\n",
       "      <td>0.566041</td>\n",
       "      <td>-0.327227</td>\n",
       "      <td>-0.550954</td>\n",
       "      <td>0.460081</td>\n",
       "      <td>-1.458903</td>\n",
       "      <td>0.339729</td>\n",
       "      <td>...</td>\n",
       "      <td>-0.004686</td>\n",
       "      <td>-0.006598</td>\n",
       "      <td>-0.004718</td>\n",
       "      <td>1.375886</td>\n",
       "      <td>2.073887</td>\n",
       "      <td>-0.015155</td>\n",
       "      <td>-0.022441</td>\n",
       "      <td>-0.001817</td>\n",
       "      <td>-0.236880</td>\n",
       "      <td>-1.171040</td>\n",
       "    </tr>\n",
       "    <tr>\n",
       "      <th>4</th>\n",
       "      <td>0.278462</td>\n",
       "      <td>0.171269</td>\n",
       "      <td>-0.237187</td>\n",
       "      <td>-0.113698</td>\n",
       "      <td>1.348737</td>\n",
       "      <td>0.488559</td>\n",
       "      <td>0.163154</td>\n",
       "      <td>1.246273</td>\n",
       "      <td>0.026923</td>\n",
       "      <td>0.339729</td>\n",
       "      <td>...</td>\n",
       "      <td>-0.000400</td>\n",
       "      <td>0.011818</td>\n",
       "      <td>0.007489</td>\n",
       "      <td>0.386778</td>\n",
       "      <td>-0.323065</td>\n",
       "      <td>-0.018641</td>\n",
       "      <td>-0.017682</td>\n",
       "      <td>-0.001810</td>\n",
       "      <td>-0.211754</td>\n",
       "      <td>-0.696640</td>\n",
       "    </tr>\n",
       "  </tbody>\n",
       "</table>\n",
       "<p>5 rows × 107 columns</p>\n",
       "</div>"
      ],
      "text/plain": [
       "       EXT1      EXT2      EXT3      EXT4      EXT5      EXT6      EXT7  \\\n",
       "0  1.069304 -1.339326  1.408792 -0.921798  1.348737 -1.143013  1.591371   \n",
       "1  0.278462  1.681865 -0.237187  0.694401 -0.216655  0.488559 -0.550954   \n",
       "2 -0.512380  0.171269  0.585802  0.694401 -0.216655 -0.327227 -1.265062   \n",
       "3 -0.512380 -0.584028 -1.060177 -0.113698  0.566041 -0.327227 -0.550954   \n",
       "4  0.278462  0.171269 -0.237187 -0.113698  1.348737  0.488559  0.163154   \n",
       "\n",
       "       EXT8      EXT9     EXT10  ...    OPN8_E    OPN9_E   OPN10_E   screenw  \\\n",
       "0 -1.112304  0.769836 -1.958685  ... -0.008775 -0.007733 -0.002231 -0.680887   \n",
       "1  1.246273 -1.458903  1.105867  ... -0.007795 -0.007491 -0.005257  0.376066   \n",
       "2 -0.326112 -0.715990  1.105867  ...  0.003305 -0.011004 -0.006368  0.386778   \n",
       "3  0.460081 -1.458903  0.339729  ... -0.004686 -0.006598 -0.004718  1.375886   \n",
       "4  1.246273  0.026923  0.339729  ... -0.000400  0.011818  0.007489  0.386778   \n",
       "\n",
       "    screenh  introelapse  testelapse  endelapse       IPC   country  \n",
       "0  1.097351    -0.018621   -0.021698  -0.001818 -0.236880 -1.171040  \n",
       "1 -0.323065    -0.018562   -0.024424  -0.001814 -0.236880 -0.124569  \n",
       "2 -0.323065    -0.018738   -0.024077  -0.001817 -0.236880 -1.171040  \n",
       "3  2.073887    -0.015155   -0.022441  -0.001817 -0.236880 -1.171040  \n",
       "4 -0.323065    -0.018641   -0.017682  -0.001810 -0.211754 -0.696640  \n",
       "\n",
       "[5 rows x 107 columns]"
      ]
     },
     "execution_count": 90,
     "metadata": {},
     "output_type": "execute_result"
    }
   ],
   "source": [
    "# Create a DataFrame with the scaled data\n",
    "transformed_columns = list(personality_test_df.columns)\n",
    "personality_scaled_df = pd.DataFrame(personality_scaled, columns=transformed_columns)\n",
    "personality_scaled_df.head()"
   ]
  },
  {
   "cell_type": "code",
   "execution_count": 102,
   "metadata": {},
   "outputs": [
    {
     "data": {
      "text/plain": [
       "<Axes: title={'center': 'Elbow curve'}, xlabel='k'>"
      ]
     },
     "execution_count": 102,
     "metadata": {},
     "output_type": "execute_result"
    },
    {
     "data": {
      "image/png": "[encoded data removed]",
      "text/plain": [
       "<Figure size 640x480 with 1 Axes>"
      ]
     },
     "metadata": {},
     "output_type": "display_data"
    }
   ],
   "source": [
    "# Create an empty list to store the inertia values\n",
    "inertia = []\n",
    "\n",
    "# Create a list with the number of k-values to try\n",
    "k = list(range(1, 11))\n",
    "\n",
    "# Create a for loop to compute the inertia with each possible value of k and add the values to the inertia list.\n",
    "for i in k:\n",
    "    model = KMeans(n_clusters=i, random_state=1)\n",
    "    model.fit(personality_scaled_df)\n",
    "    inertia.append(model.inertia_)\n",
    "\n",
    "# Create a dictionary with the data to plot the elbow curve\n",
    "elbow_data = {\n",
    "    \"k\": k,\n",
    "    \"inertia\": inertia\n",
    "}\n",
    "\n",
    "# Create a DataFrame with the data to plot the elbow curve\n",
    "df_elbow = pd.DataFrame(elbow_data)\n",
    "\n",
    "# Display the DataFrame\n",
    "df_elbow.plot.line(x=\"k\", y=\"inertia\", title=\"Elbow curve\")"
   ]
  },
  {
   "cell_type": "code",
   "execution_count": 103,
   "metadata": {},
   "outputs": [],
   "source": [
    "# Create the PCA model instance where n_components=4\n",
    "pca = PCA(n_components=4)"
   ]
  },
  {
   "cell_type": "code",
   "execution_count": 104,
   "metadata": {},
   "outputs": [
    {
     "data": {
      "text/plain": [
       "array([[-4.26071629, -0.13170738,  1.95793294, -1.5923465 ],\n",
       "       [ 0.42831738,  1.34829998, -2.34049443,  2.10052776],\n",
       "       [-0.53349247,  1.33496179, -1.12067126,  0.24663922],\n",
       "       [ 0.90043764,  0.36173411,  1.36967695, -0.8407415 ],\n",
       "       [-4.05387485,  0.93382575, -4.26046887, -0.95375006]])"
      ]
     },
     "execution_count": 104,
     "metadata": {},
     "output_type": "execute_result"
    }
   ],
   "source": [
    "# Fit the personality_scaled_df to the PCA model\n",
    "personality_pca_data = pca.fit_transform(personality_scaled_df)\n",
    "\n",
    "# Review the first five rows\n",
    "personality_pca_data[:5]"
   ]
  },
  {
   "cell_type": "code",
   "execution_count": 105,
   "metadata": {},
   "outputs": [
    {
     "data": {
      "text/plain": [
       "array([0.06733946, 0.04688336, 0.03718871, 0.03278344])"
      ]
     },
     "execution_count": 105,
     "metadata": {},
     "output_type": "execute_result"
    }
   ],
   "source": [
    "# Calculate the explained variance\n",
    "pca.explained_variance_ratio_"
   ]
  },
  {
   "cell_type": "code",
   "execution_count": 106,
   "metadata": {},
   "outputs": [
    {
     "data": {
      "text/html": [
       "<div>\n",
       "<style scoped>\n",
       "    .dataframe tbody tr th:only-of-type {\n",
       "        vertical-align: middle;\n",
       "    }\n",
       "\n",
       "    .dataframe tbody tr th {\n",
       "        vertical-align: top;\n",
       "    }\n",
       "\n",
       "    .dataframe thead th {\n",
       "        text-align: right;\n",
       "    }\n",
       "</style>\n",
       "<table border=\"1\" class=\"dataframe\">\n",
       "  <thead>\n",
       "    <tr style=\"text-align: right;\">\n",
       "      <th></th>\n",
       "      <th>PCA1</th>\n",
       "      <th>PCA2</th>\n",
       "      <th>PCA3</th>\n",
       "      <th>PCA4</th>\n",
       "    </tr>\n",
       "  </thead>\n",
       "  <tbody>\n",
       "    <tr>\n",
       "      <th>0</th>\n",
       "      <td>-4.260716</td>\n",
       "      <td>-0.131707</td>\n",
       "      <td>1.957933</td>\n",
       "      <td>-1.592347</td>\n",
       "    </tr>\n",
       "    <tr>\n",
       "      <th>1</th>\n",
       "      <td>0.428317</td>\n",
       "      <td>1.348300</td>\n",
       "      <td>-2.340494</td>\n",
       "      <td>2.100528</td>\n",
       "    </tr>\n",
       "    <tr>\n",
       "      <th>2</th>\n",
       "      <td>-0.533492</td>\n",
       "      <td>1.334962</td>\n",
       "      <td>-1.120671</td>\n",
       "      <td>0.246639</td>\n",
       "    </tr>\n",
       "    <tr>\n",
       "      <th>3</th>\n",
       "      <td>0.900438</td>\n",
       "      <td>0.361734</td>\n",
       "      <td>1.369677</td>\n",
       "      <td>-0.840742</td>\n",
       "    </tr>\n",
       "    <tr>\n",
       "      <th>4</th>\n",
       "      <td>-4.053875</td>\n",
       "      <td>0.933826</td>\n",
       "      <td>-4.260469</td>\n",
       "      <td>-0.953750</td>\n",
       "    </tr>\n",
       "  </tbody>\n",
       "</table>\n",
       "</div>"
      ],
      "text/plain": [
       "       PCA1      PCA2      PCA3      PCA4\n",
       "0 -4.260716 -0.131707  1.957933 -1.592347\n",
       "1  0.428317  1.348300 -2.340494  2.100528\n",
       "2 -0.533492  1.334962 -1.120671  0.246639\n",
       "3  0.900438  0.361734  1.369677 -0.840742\n",
       "4 -4.053875  0.933826 -4.260469 -0.953750"
      ]
     },
     "execution_count": 106,
     "metadata": {},
     "output_type": "execute_result"
    }
   ],
   "source": [
    "# Create a DataFrame with the PCA data\n",
    "pca_columns = ['PCA1', 'PCA2', 'PCA3', 'PCA4']\n",
    "personality_pca_df = pd.DataFrame(personality_pca_data, columns=pca_columns)\n",
    "\n",
    "# Display the first five rows\n",
    "personality_pca_df.head()"
   ]
  },
  {
   "cell_type": "code",
   "execution_count": 107,
   "metadata": {},
   "outputs": [],
   "source": [
    "# Initialize the KMeans model with n_clusters=4\n",
    "model = KMeans(n_clusters=4, random_state=1)\n",
    "\n",
    "# Fit the model for the personality_pca_df\n",
    "model.fit(personality_pca_df)\n",
    "\n",
    "# Predict the model segments (clusters)\n",
    "personality_clusters = model.predict(personality_pca_df)"
   ]
  },
  {
   "cell_type": "code",
   "execution_count": 128,
   "metadata": {},
   "outputs": [
    {
     "data": {
      "text/html": [
       "<div>\n",
       "<style scoped>\n",
       "    .dataframe tbody tr th:only-of-type {\n",
       "        vertical-align: middle;\n",
       "    }\n",
       "\n",
       "    .dataframe tbody tr th {\n",
       "        vertical-align: top;\n",
       "    }\n",
       "\n",
       "    .dataframe thead th {\n",
       "        text-align: right;\n",
       "    }\n",
       "</style>\n",
       "<table border=\"1\" class=\"dataframe\">\n",
       "  <thead>\n",
       "    <tr style=\"text-align: right;\">\n",
       "      <th></th>\n",
       "      <th>PCA1</th>\n",
       "      <th>PCA2</th>\n",
       "      <th>PCA3</th>\n",
       "      <th>PCA4</th>\n",
       "      <th>Personality_Cluster</th>\n",
       "    </tr>\n",
       "  </thead>\n",
       "  <tbody>\n",
       "    <tr>\n",
       "      <th>0</th>\n",
       "      <td>-4.260716</td>\n",
       "      <td>-0.131707</td>\n",
       "      <td>1.957933</td>\n",
       "      <td>-1.592347</td>\n",
       "      <td>4</td>\n",
       "    </tr>\n",
       "    <tr>\n",
       "      <th>1</th>\n",
       "      <td>0.428317</td>\n",
       "      <td>1.348300</td>\n",
       "      <td>-2.340494</td>\n",
       "      <td>2.100528</td>\n",
       "      <td>3</td>\n",
       "    </tr>\n",
       "    <tr>\n",
       "      <th>2</th>\n",
       "      <td>-0.533492</td>\n",
       "      <td>1.334962</td>\n",
       "      <td>-1.120671</td>\n",
       "      <td>0.246639</td>\n",
       "      <td>4</td>\n",
       "    </tr>\n",
       "    <tr>\n",
       "      <th>3</th>\n",
       "      <td>0.900438</td>\n",
       "      <td>0.361734</td>\n",
       "      <td>1.369677</td>\n",
       "      <td>-0.840742</td>\n",
       "      <td>1</td>\n",
       "    </tr>\n",
       "    <tr>\n",
       "      <th>4</th>\n",
       "      <td>-4.053875</td>\n",
       "      <td>0.933826</td>\n",
       "      <td>-4.260469</td>\n",
       "      <td>-0.953750</td>\n",
       "      <td>4</td>\n",
       "    </tr>\n",
       "  </tbody>\n",
       "</table>\n",
       "</div>"
      ],
      "text/plain": [
       "       PCA1      PCA2      PCA3      PCA4  Personality_Cluster\n",
       "0 -4.260716 -0.131707  1.957933 -1.592347                    4\n",
       "1  0.428317  1.348300 -2.340494  2.100528                    3\n",
       "2 -0.533492  1.334962 -1.120671  0.246639                    4\n",
       "3  0.900438  0.361734  1.369677 -0.840742                    1\n",
       "4 -4.053875  0.933826 -4.260469 -0.953750                    4"
      ]
     },
     "execution_count": 128,
     "metadata": {},
     "output_type": "execute_result"
    }
   ],
   "source": [
    "# Create a copy of the personality_pca_df DataFrame\n",
    "personality_pca_predictions_df = personality_pca_df.copy()\n",
    "\n",
    "# Create a new column in the DataFrame with the predicted clusters\n",
    "personality_pca_predictions_df['Personality_Cluster'] = personality_clusters+1\n",
    "\n",
    "# Review the DataFrame\n",
    "personality_pca_predictions_df.head()"
   ]
  },
  {
   "cell_type": "code",
   "execution_count": 129,
   "metadata": {},
   "outputs": [
    {
     "data": {
      "text/plain": [
       "<Axes: title={'center': 'PCA KMeans Clusters'}, xlabel='PCA1', ylabel='PCA2'>"
      ]
     },
     "execution_count": 129,
     "metadata": {},
     "output_type": "execute_result"
    },
    {
     "data": {
      "image/png": "[encoded data removed]",
      "text/plain": [
       "<Figure size 640x480 with 2 Axes>"
      ]
     },
     "metadata": {},
     "output_type": "display_data"
    }
   ],
   "source": [
    "# Create the scatter plot with x='PCA1' and y='PCA2' and color='Personality_Cluster'\n",
    "personality_pca_predictions_df.plot.scatter(x='PCA1', y='PCA2', c='Personality_Cluster', colormap='viridis', title='PCA KMeans Clusters')"
   ]
  },
  {
   "cell_type": "code",
   "execution_count": 130,
   "metadata": {},
   "outputs": [
    {
     "name": "stdout",
     "output_type": "stream",
     "text": [
      "EXT4     0.215827\n",
      "EXT10    0.212789\n",
      "EXT6     0.200970\n",
      "EXT2     0.197076\n",
      "Name: PCA1, dtype: float64\n",
      "AGR5    0.136519\n",
      "EST2    0.134675\n",
      "AGR7    0.122652\n",
      "EST4    0.109113\n",
      "Name: PCA2, dtype: float64\n",
      "CSN6    0.199530\n",
      "CSN2    0.184267\n",
      "CSN4    0.178740\n",
      "EXT1    0.175589\n",
      "Name: PCA3, dtype: float64\n",
      "OPN2    0.276005\n",
      "OPN4    0.229998\n",
      "OPN6    0.214658\n",
      "AGR6    0.168613\n",
      "Name: PCA4, dtype: float64\n"
     ]
    }
   ],
   "source": [
    "# Find the pca component weights\n",
    "pca_weights = pd.DataFrame(pca.components_.T, columns=pca_columns, index=personality_scaled_df.columns)\n",
    "print(f\"{pca_weights['PCA1'].sort_values(ascending=False).head(4)}\")\n",
    "print(f\"{pca_weights['PCA2'].sort_values(ascending=False).head(4)}\")\n",
    "print(f\"{pca_weights['PCA3'].sort_values(ascending=False).head(4)}\")\n",
    "print(f\"{pca_weights['PCA4'].sort_values(ascending=False).head(4)}\")"
   ]
  },
  {
   "cell_type": "code",
   "execution_count": 132,
   "metadata": {},
   "outputs": [
    {
     "name": "stdout",
     "output_type": "stream",
     "text": [
      "EXT3   -0.256135\n",
      "EXT5   -0.240022\n",
      "EXT7   -0.226757\n",
      "EXT1   -0.199629\n",
      "Name: PCA1, dtype: float64\n",
      "EST7   -0.265775\n",
      "EST8   -0.263932\n",
      "EST6   -0.255234\n",
      "EST3   -0.250062\n",
      "Name: PCA2, dtype: float64\n",
      "CSN7   -0.262268\n",
      "CSN1   -0.254516\n",
      "CSN9   -0.245993\n",
      "CSN3   -0.242786\n",
      "Name: PCA3, dtype: float64\n",
      "OPN8    -0.314814\n",
      "OPN10   -0.304321\n",
      "OPN1    -0.303405\n",
      "OPN5    -0.274889\n",
      "Name: PCA4, dtype: float64\n"
     ]
    }
   ],
   "source": [
    "print(pca_weights['PCA1'].sort_values(ascending=True).head(4))\n",
    "print(pca_weights['PCA2'].sort_values(ascending=True).head(4))\n",
    "print(pca_weights['PCA3'].sort_values(ascending=True).head(4))\n",
    "print(pca_weights['PCA4'].sort_values(ascending=True).head(4))"
   ]
  },
  {
   "cell_type": "code",
   "execution_count": 126,
   "metadata": {},
   "outputs": [
    {
     "data": {
      "text/html": [
       "<div>\n",
       "<style scoped>\n",
       "    .dataframe tbody tr th:only-of-type {\n",
       "        vertical-align: middle;\n",
       "    }\n",
       "\n",
       "    .dataframe tbody tr th {\n",
       "        vertical-align: top;\n",
       "    }\n",
       "\n",
       "    .dataframe thead th {\n",
       "        text-align: right;\n",
       "    }\n",
       "</style>\n",
       "<table border=\"1\" class=\"dataframe\">\n",
       "  <thead>\n",
       "    <tr style=\"text-align: right;\">\n",
       "      <th></th>\n",
       "      <th>EXT1</th>\n",
       "      <th>EXT2</th>\n",
       "      <th>EXT3</th>\n",
       "      <th>EXT4</th>\n",
       "      <th>EXT5</th>\n",
       "      <th>EXT6</th>\n",
       "      <th>EXT7</th>\n",
       "      <th>EXT8</th>\n",
       "      <th>EXT9</th>\n",
       "      <th>EXT10</th>\n",
       "      <th>...</th>\n",
       "      <th>OPN9_E</th>\n",
       "      <th>OPN10_E</th>\n",
       "      <th>screenw</th>\n",
       "      <th>screenh</th>\n",
       "      <th>introelapse</th>\n",
       "      <th>testelapse</th>\n",
       "      <th>endelapse</th>\n",
       "      <th>IPC</th>\n",
       "      <th>country</th>\n",
       "      <th>Personality_Cluster</th>\n",
       "    </tr>\n",
       "  </thead>\n",
       "  <tbody>\n",
       "    <tr>\n",
       "      <th>0</th>\n",
       "      <td>1.069304</td>\n",
       "      <td>-1.339326</td>\n",
       "      <td>1.408792</td>\n",
       "      <td>-0.921798</td>\n",
       "      <td>1.348737</td>\n",
       "      <td>-1.143013</td>\n",
       "      <td>1.591371</td>\n",
       "      <td>-1.112304</td>\n",
       "      <td>0.769836</td>\n",
       "      <td>-1.958685</td>\n",
       "      <td>...</td>\n",
       "      <td>-0.007733</td>\n",
       "      <td>-0.002231</td>\n",
       "      <td>-0.680887</td>\n",
       "      <td>1.097351</td>\n",
       "      <td>-0.018621</td>\n",
       "      <td>-0.021698</td>\n",
       "      <td>-0.001818</td>\n",
       "      <td>-0.236880</td>\n",
       "      <td>-1.171040</td>\n",
       "      <td>0</td>\n",
       "    </tr>\n",
       "    <tr>\n",
       "      <th>1</th>\n",
       "      <td>0.278462</td>\n",
       "      <td>1.681865</td>\n",
       "      <td>-0.237187</td>\n",
       "      <td>0.694401</td>\n",
       "      <td>-0.216655</td>\n",
       "      <td>0.488559</td>\n",
       "      <td>-0.550954</td>\n",
       "      <td>1.246273</td>\n",
       "      <td>-1.458903</td>\n",
       "      <td>1.105867</td>\n",
       "      <td>...</td>\n",
       "      <td>-0.007491</td>\n",
       "      <td>-0.005257</td>\n",
       "      <td>0.376066</td>\n",
       "      <td>-0.323065</td>\n",
       "      <td>-0.018562</td>\n",
       "      <td>-0.024424</td>\n",
       "      <td>-0.001814</td>\n",
       "      <td>-0.236880</td>\n",
       "      <td>-0.124569</td>\n",
       "      <td>1</td>\n",
       "    </tr>\n",
       "    <tr>\n",
       "      <th>2</th>\n",
       "      <td>-0.512380</td>\n",
       "      <td>0.171269</td>\n",
       "      <td>0.585802</td>\n",
       "      <td>0.694401</td>\n",
       "      <td>-0.216655</td>\n",
       "      <td>-0.327227</td>\n",
       "      <td>-1.265062</td>\n",
       "      <td>-0.326112</td>\n",
       "      <td>-0.715990</td>\n",
       "      <td>1.105867</td>\n",
       "      <td>...</td>\n",
       "      <td>-0.011004</td>\n",
       "      <td>-0.006368</td>\n",
       "      <td>0.386778</td>\n",
       "      <td>-0.323065</td>\n",
       "      <td>-0.018738</td>\n",
       "      <td>-0.024077</td>\n",
       "      <td>-0.001817</td>\n",
       "      <td>-0.236880</td>\n",
       "      <td>-1.171040</td>\n",
       "      <td>0</td>\n",
       "    </tr>\n",
       "    <tr>\n",
       "      <th>3</th>\n",
       "      <td>-0.512380</td>\n",
       "      <td>-0.584028</td>\n",
       "      <td>-1.060177</td>\n",
       "      <td>-0.113698</td>\n",
       "      <td>0.566041</td>\n",
       "      <td>-0.327227</td>\n",
       "      <td>-0.550954</td>\n",
       "      <td>0.460081</td>\n",
       "      <td>-1.458903</td>\n",
       "      <td>0.339729</td>\n",
       "      <td>...</td>\n",
       "      <td>-0.006598</td>\n",
       "      <td>-0.004718</td>\n",
       "      <td>1.375886</td>\n",
       "      <td>2.073887</td>\n",
       "      <td>-0.015155</td>\n",
       "      <td>-0.022441</td>\n",
       "      <td>-0.001817</td>\n",
       "      <td>-0.236880</td>\n",
       "      <td>-1.171040</td>\n",
       "      <td>3</td>\n",
       "    </tr>\n",
       "    <tr>\n",
       "      <th>4</th>\n",
       "      <td>0.278462</td>\n",
       "      <td>0.171269</td>\n",
       "      <td>-0.237187</td>\n",
       "      <td>-0.113698</td>\n",
       "      <td>1.348737</td>\n",
       "      <td>0.488559</td>\n",
       "      <td>0.163154</td>\n",
       "      <td>1.246273</td>\n",
       "      <td>0.026923</td>\n",
       "      <td>0.339729</td>\n",
       "      <td>...</td>\n",
       "      <td>0.011818</td>\n",
       "      <td>0.007489</td>\n",
       "      <td>0.386778</td>\n",
       "      <td>-0.323065</td>\n",
       "      <td>-0.018641</td>\n",
       "      <td>-0.017682</td>\n",
       "      <td>-0.001810</td>\n",
       "      <td>-0.211754</td>\n",
       "      <td>-0.696640</td>\n",
       "      <td>0</td>\n",
       "    </tr>\n",
       "  </tbody>\n",
       "</table>\n",
       "<p>5 rows × 108 columns</p>\n",
       "</div>"
      ],
      "text/plain": [
       "       EXT1      EXT2      EXT3      EXT4      EXT5      EXT6      EXT7  \\\n",
       "0  1.069304 -1.339326  1.408792 -0.921798  1.348737 -1.143013  1.591371   \n",
       "1  0.278462  1.681865 -0.237187  0.694401 -0.216655  0.488559 -0.550954   \n",
       "2 -0.512380  0.171269  0.585802  0.694401 -0.216655 -0.327227 -1.265062   \n",
       "3 -0.512380 -0.584028 -1.060177 -0.113698  0.566041 -0.327227 -0.550954   \n",
       "4  0.278462  0.171269 -0.237187 -0.113698  1.348737  0.488559  0.163154   \n",
       "\n",
       "       EXT8      EXT9     EXT10  ...    OPN9_E   OPN10_E   screenw   screenh  \\\n",
       "0 -1.112304  0.769836 -1.958685  ... -0.007733 -0.002231 -0.680887  1.097351   \n",
       "1  1.246273 -1.458903  1.105867  ... -0.007491 -0.005257  0.376066 -0.323065   \n",
       "2 -0.326112 -0.715990  1.105867  ... -0.011004 -0.006368  0.386778 -0.323065   \n",
       "3  0.460081 -1.458903  0.339729  ... -0.006598 -0.004718  1.375886  2.073887   \n",
       "4  1.246273  0.026923  0.339729  ...  0.011818  0.007489  0.386778 -0.323065   \n",
       "\n",
       "   introelapse  testelapse  endelapse       IPC   country  Personality_Cluster  \n",
       "0    -0.018621   -0.021698  -0.001818 -0.236880 -1.171040                    0  \n",
       "1    -0.018562   -0.024424  -0.001814 -0.236880 -0.124569                    1  \n",
       "2    -0.018738   -0.024077  -0.001817 -0.236880 -1.171040                    0  \n",
       "3    -0.015155   -0.022441  -0.001817 -0.236880 -1.171040                    3  \n",
       "4    -0.018641   -0.017682  -0.001810 -0.211754 -0.696640                    0  \n",
       "\n",
       "[5 rows x 108 columns]"
      ]
     },
     "execution_count": 126,
     "metadata": {},
     "output_type": "execute_result"
    }
   ],
   "source": [
    "# Initialize KMeans model with n_clusters=4\n",
    "model = KMeans(n_clusters=4, random_state=1)\n",
    "\n",
    "# Fit the model for the personality_scaled_df\n",
    "model.fit(personality_scaled_df)\n",
    "\n",
    "# Create a copy of the personality_scaled_df DataFrame\n",
    "personality_predictions_df = personality_scaled_df.copy()\n",
    "\n",
    "# Create a new column in the DataFrame with the predicted clusters\n",
    "personality_predictions_df['Personality_Cluster'] = model.predict(personality_predictions_df)\n",
    "\n",
    "# Review the DataFrame\n",
    "personality_predictions_df.head()\n"
   ]
  },
  {
   "cell_type": "code",
   "execution_count": 127,
   "metadata": {},
   "outputs": [
    {
     "data": {
      "text/plain": [
       "<Axes: title={'center': 'KMeans Clusters'}, xlabel='EXT4', ylabel='EXT10'>"
      ]
     },
     "execution_count": 127,
     "metadata": {},
     "output_type": "execute_result"
    },
    {
     "data": {
      "image/png": "[encoded data removed]",
      "text/plain": [
       "<Figure size 640x480 with 2 Axes>"
      ]
     },
     "metadata": {},
     "output_type": "display_data"
    }
   ],
   "source": [
    "# Create the scatter plot with x='EXT4' and y='EXT10' and color='Personality_Cluster'\n",
    "personality_predictions_df.plot.scatter(x='EXT4', y='EXT10', c='Personality_Cluster', colormap='viridis', title='KMeans Clusters')"
   ]
  }
 ],
 "metadata": {
  "kernelspec": {
   "display_name": "dev",
   "language": "python",
   "name": "python3"
  },
  "language_info": {
   "codemirror_mode": {
    "name": "ipython",
    "version": 3
   },
   "file_extension": ".py",
   "mimetype": "text/x-python",
   "name": "python",
   "nbconvert_exporter": "python",
   "pygments_lexer": "ipython3",
   "version": "3.10.14"
  }
 },
 "nbformat": 4,
 "nbformat_minor": 2
}
